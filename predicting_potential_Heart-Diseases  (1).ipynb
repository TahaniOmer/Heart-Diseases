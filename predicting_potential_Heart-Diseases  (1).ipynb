{
 "cells": [
  {
   "cell_type": "markdown",
   "metadata": {},
   "source": [
    "## Heart diseases\n",
    "\n",
    "\n",
    "\n",
    "- predicting potential Heart Diseases in people using Machine Learning algorithms  \n",
    "\n",
    "Predictind heart diseases in advance, can provide important insights to doctors who can then adapt their diagnosis and treatment per patient basis.\n"
   ]
  },
  {
   "cell_type": "code",
   "execution_count": 1,
   "metadata": {},
   "outputs": [],
   "source": [
    "# import libraries \n",
    "import pandas as pd\n",
    "import numpy as np\n",
    "import sklearn\n",
    "\n",
    "\n",
    "import matplotlib.pyplot as plt\n",
    "# from matplotlib import rcParams\n",
    "# from matplotlib.cm import rainbow\n",
    "\n",
    "import seaborn as sns\n",
    "\n",
    "%matplotlib inline\n",
    "\n",
    "# import functions directly from sci-kit learn\n",
    "from sklearn.linear_model import LogisticRegression\n",
    "from sklearn.tree import DecisionTreeClassifier\n",
    "from sklearn.ensemble import RandomForestClassifier\n",
    "from sklearn.neighbors import KNeighborsClassifier\n",
    "\n",
    "\n",
    "from sklearn.model_selection import train_test_split\n",
    "from sklearn.metrics import classification_report\n",
    "from sklearn.metrics import confusion_matrix\n",
    "\n",
    "#preprocessing functions will be used to standardize/normalize data\n",
    "from sklearn import preprocessing\n",
    "from sklearn.preprocessing import StandardScaler\n"
   ]
  },
  {
   "cell_type": "code",
   "execution_count": 2,
   "metadata": {},
   "outputs": [
    {
     "data": {
      "text/html": [
       "<div>\n",
       "<style scoped>\n",
       "    .dataframe tbody tr th:only-of-type {\n",
       "        vertical-align: middle;\n",
       "    }\n",
       "\n",
       "    .dataframe tbody tr th {\n",
       "        vertical-align: top;\n",
       "    }\n",
       "\n",
       "    .dataframe thead th {\n",
       "        text-align: right;\n",
       "    }\n",
       "</style>\n",
       "<table border=\"1\" class=\"dataframe\">\n",
       "  <thead>\n",
       "    <tr style=\"text-align: right;\">\n",
       "      <th></th>\n",
       "      <th>age</th>\n",
       "      <th>sex</th>\n",
       "      <th>cp</th>\n",
       "      <th>trestbps</th>\n",
       "      <th>chol</th>\n",
       "      <th>fbs</th>\n",
       "      <th>restecg</th>\n",
       "      <th>thalach</th>\n",
       "      <th>exang</th>\n",
       "      <th>oldpeak</th>\n",
       "      <th>slope</th>\n",
       "      <th>ca</th>\n",
       "      <th>thal</th>\n",
       "      <th>target</th>\n",
       "    </tr>\n",
       "  </thead>\n",
       "  <tbody>\n",
       "    <tr>\n",
       "      <th>0</th>\n",
       "      <td>52</td>\n",
       "      <td>1</td>\n",
       "      <td>0</td>\n",
       "      <td>125</td>\n",
       "      <td>212</td>\n",
       "      <td>0</td>\n",
       "      <td>1</td>\n",
       "      <td>168</td>\n",
       "      <td>0</td>\n",
       "      <td>1.0</td>\n",
       "      <td>2</td>\n",
       "      <td>2</td>\n",
       "      <td>3</td>\n",
       "      <td>0</td>\n",
       "    </tr>\n",
       "    <tr>\n",
       "      <th>1</th>\n",
       "      <td>53</td>\n",
       "      <td>1</td>\n",
       "      <td>0</td>\n",
       "      <td>140</td>\n",
       "      <td>203</td>\n",
       "      <td>1</td>\n",
       "      <td>0</td>\n",
       "      <td>155</td>\n",
       "      <td>1</td>\n",
       "      <td>3.1</td>\n",
       "      <td>0</td>\n",
       "      <td>0</td>\n",
       "      <td>3</td>\n",
       "      <td>0</td>\n",
       "    </tr>\n",
       "    <tr>\n",
       "      <th>2</th>\n",
       "      <td>70</td>\n",
       "      <td>1</td>\n",
       "      <td>0</td>\n",
       "      <td>145</td>\n",
       "      <td>174</td>\n",
       "      <td>0</td>\n",
       "      <td>1</td>\n",
       "      <td>125</td>\n",
       "      <td>1</td>\n",
       "      <td>2.6</td>\n",
       "      <td>0</td>\n",
       "      <td>0</td>\n",
       "      <td>3</td>\n",
       "      <td>0</td>\n",
       "    </tr>\n",
       "    <tr>\n",
       "      <th>3</th>\n",
       "      <td>61</td>\n",
       "      <td>1</td>\n",
       "      <td>0</td>\n",
       "      <td>148</td>\n",
       "      <td>203</td>\n",
       "      <td>0</td>\n",
       "      <td>1</td>\n",
       "      <td>161</td>\n",
       "      <td>0</td>\n",
       "      <td>0.0</td>\n",
       "      <td>2</td>\n",
       "      <td>1</td>\n",
       "      <td>3</td>\n",
       "      <td>0</td>\n",
       "    </tr>\n",
       "    <tr>\n",
       "      <th>4</th>\n",
       "      <td>62</td>\n",
       "      <td>0</td>\n",
       "      <td>0</td>\n",
       "      <td>138</td>\n",
       "      <td>294</td>\n",
       "      <td>1</td>\n",
       "      <td>1</td>\n",
       "      <td>106</td>\n",
       "      <td>0</td>\n",
       "      <td>1.9</td>\n",
       "      <td>1</td>\n",
       "      <td>3</td>\n",
       "      <td>2</td>\n",
       "      <td>0</td>\n",
       "    </tr>\n",
       "  </tbody>\n",
       "</table>\n",
       "</div>"
      ],
      "text/plain": [
       "   age  sex  cp  trestbps  chol  fbs  restecg  thalach  exang  oldpeak  slope  \\\n",
       "0   52    1   0       125   212    0        1      168      0      1.0      2   \n",
       "1   53    1   0       140   203    1        0      155      1      3.1      0   \n",
       "2   70    1   0       145   174    0        1      125      1      2.6      0   \n",
       "3   61    1   0       148   203    0        1      161      0      0.0      2   \n",
       "4   62    0   0       138   294    1        1      106      0      1.9      1   \n",
       "\n",
       "   ca  thal  target  \n",
       "0   2     3       0  \n",
       "1   0     3       0  \n",
       "2   0     3       0  \n",
       "3   1     3       0  \n",
       "4   3     2       0  "
      ]
     },
     "execution_count": 2,
     "metadata": {},
     "output_type": "execute_result"
    }
   ],
   "source": [
    "# read in our dataset\n",
    "filePath = \"datasets/HeartDataset.csv\"\n",
    "df = pd.read_csv(filePath)\n",
    "df.head()"
   ]
  },
  {
   "cell_type": "markdown",
   "metadata": {},
   "source": [
    "## Exploratory Analysis"
   ]
  },
  {
   "cell_type": "code",
   "execution_count": 3,
   "metadata": {},
   "outputs": [
    {
     "data": {
      "text/plain": [
       "(1025, 14)"
      ]
     },
     "execution_count": 3,
     "metadata": {},
     "output_type": "execute_result"
    }
   ],
   "source": [
    "df.shape"
   ]
  },
  {
   "cell_type": "code",
   "execution_count": 4,
   "metadata": {},
   "outputs": [
    {
     "data": {
      "text/plain": [
       "age           int64\n",
       "sex           int64\n",
       "cp            int64\n",
       "trestbps      int64\n",
       "chol          int64\n",
       "fbs           int64\n",
       "restecg       int64\n",
       "thalach       int64\n",
       "exang         int64\n",
       "oldpeak     float64\n",
       "slope         int64\n",
       "ca            int64\n",
       "thal          int64\n",
       "target        int64\n",
       "dtype: object"
      ]
     },
     "execution_count": 4,
     "metadata": {},
     "output_type": "execute_result"
    }
   ],
   "source": [
    "df.dtypes"
   ]
  },
  {
   "cell_type": "code",
   "execution_count": 5,
   "metadata": {},
   "outputs": [
    {
     "data": {
      "text/plain": [
       "Index(['age', 'sex', 'cp', 'trestbps', 'chol', 'fbs', 'restecg', 'thalach',\n",
       "       'exang', 'oldpeak', 'slope', 'ca', 'thal', 'target'],\n",
       "      dtype='object')"
      ]
     },
     "execution_count": 5,
     "metadata": {},
     "output_type": "execute_result"
    }
   ],
   "source": [
    "df.columns"
   ]
  },
  {
   "cell_type": "code",
   "execution_count": 6,
   "metadata": {},
   "outputs": [
    {
     "data": {
      "text/html": [
       "<div>\n",
       "<style scoped>\n",
       "    .dataframe tbody tr th:only-of-type {\n",
       "        vertical-align: middle;\n",
       "    }\n",
       "\n",
       "    .dataframe tbody tr th {\n",
       "        vertical-align: top;\n",
       "    }\n",
       "\n",
       "    .dataframe thead th {\n",
       "        text-align: right;\n",
       "    }\n",
       "</style>\n",
       "<table border=\"1\" class=\"dataframe\">\n",
       "  <thead>\n",
       "    <tr style=\"text-align: right;\">\n",
       "      <th></th>\n",
       "      <th>Age</th>\n",
       "      <th>Sex</th>\n",
       "      <th>ChestPain</th>\n",
       "      <th>RestingBloodPressure</th>\n",
       "      <th>Cholestoral</th>\n",
       "      <th>FastingBloodSugar</th>\n",
       "      <th>CardiographicResults</th>\n",
       "      <th>MaximumHeartRate</th>\n",
       "      <th>ExerciseInducedAngina</th>\n",
       "      <th>Depression</th>\n",
       "      <th>Slope</th>\n",
       "      <th>MajorVessels</th>\n",
       "      <th>Thalassemia</th>\n",
       "      <th>Target</th>\n",
       "    </tr>\n",
       "  </thead>\n",
       "  <tbody>\n",
       "    <tr>\n",
       "      <th>0</th>\n",
       "      <td>52</td>\n",
       "      <td>1</td>\n",
       "      <td>0</td>\n",
       "      <td>125</td>\n",
       "      <td>212</td>\n",
       "      <td>0</td>\n",
       "      <td>1</td>\n",
       "      <td>168</td>\n",
       "      <td>0</td>\n",
       "      <td>1.0</td>\n",
       "      <td>2</td>\n",
       "      <td>2</td>\n",
       "      <td>3</td>\n",
       "      <td>0</td>\n",
       "    </tr>\n",
       "    <tr>\n",
       "      <th>1</th>\n",
       "      <td>53</td>\n",
       "      <td>1</td>\n",
       "      <td>0</td>\n",
       "      <td>140</td>\n",
       "      <td>203</td>\n",
       "      <td>1</td>\n",
       "      <td>0</td>\n",
       "      <td>155</td>\n",
       "      <td>1</td>\n",
       "      <td>3.1</td>\n",
       "      <td>0</td>\n",
       "      <td>0</td>\n",
       "      <td>3</td>\n",
       "      <td>0</td>\n",
       "    </tr>\n",
       "    <tr>\n",
       "      <th>2</th>\n",
       "      <td>70</td>\n",
       "      <td>1</td>\n",
       "      <td>0</td>\n",
       "      <td>145</td>\n",
       "      <td>174</td>\n",
       "      <td>0</td>\n",
       "      <td>1</td>\n",
       "      <td>125</td>\n",
       "      <td>1</td>\n",
       "      <td>2.6</td>\n",
       "      <td>0</td>\n",
       "      <td>0</td>\n",
       "      <td>3</td>\n",
       "      <td>0</td>\n",
       "    </tr>\n",
       "    <tr>\n",
       "      <th>3</th>\n",
       "      <td>61</td>\n",
       "      <td>1</td>\n",
       "      <td>0</td>\n",
       "      <td>148</td>\n",
       "      <td>203</td>\n",
       "      <td>0</td>\n",
       "      <td>1</td>\n",
       "      <td>161</td>\n",
       "      <td>0</td>\n",
       "      <td>0.0</td>\n",
       "      <td>2</td>\n",
       "      <td>1</td>\n",
       "      <td>3</td>\n",
       "      <td>0</td>\n",
       "    </tr>\n",
       "    <tr>\n",
       "      <th>4</th>\n",
       "      <td>62</td>\n",
       "      <td>0</td>\n",
       "      <td>0</td>\n",
       "      <td>138</td>\n",
       "      <td>294</td>\n",
       "      <td>1</td>\n",
       "      <td>1</td>\n",
       "      <td>106</td>\n",
       "      <td>0</td>\n",
       "      <td>1.9</td>\n",
       "      <td>1</td>\n",
       "      <td>3</td>\n",
       "      <td>2</td>\n",
       "      <td>0</td>\n",
       "    </tr>\n",
       "    <tr>\n",
       "      <th>5</th>\n",
       "      <td>58</td>\n",
       "      <td>0</td>\n",
       "      <td>0</td>\n",
       "      <td>100</td>\n",
       "      <td>248</td>\n",
       "      <td>0</td>\n",
       "      <td>0</td>\n",
       "      <td>122</td>\n",
       "      <td>0</td>\n",
       "      <td>1.0</td>\n",
       "      <td>1</td>\n",
       "      <td>0</td>\n",
       "      <td>2</td>\n",
       "      <td>1</td>\n",
       "    </tr>\n",
       "    <tr>\n",
       "      <th>6</th>\n",
       "      <td>58</td>\n",
       "      <td>1</td>\n",
       "      <td>0</td>\n",
       "      <td>114</td>\n",
       "      <td>318</td>\n",
       "      <td>0</td>\n",
       "      <td>2</td>\n",
       "      <td>140</td>\n",
       "      <td>0</td>\n",
       "      <td>4.4</td>\n",
       "      <td>0</td>\n",
       "      <td>3</td>\n",
       "      <td>1</td>\n",
       "      <td>0</td>\n",
       "    </tr>\n",
       "    <tr>\n",
       "      <th>7</th>\n",
       "      <td>55</td>\n",
       "      <td>1</td>\n",
       "      <td>0</td>\n",
       "      <td>160</td>\n",
       "      <td>289</td>\n",
       "      <td>0</td>\n",
       "      <td>0</td>\n",
       "      <td>145</td>\n",
       "      <td>1</td>\n",
       "      <td>0.8</td>\n",
       "      <td>1</td>\n",
       "      <td>1</td>\n",
       "      <td>3</td>\n",
       "      <td>0</td>\n",
       "    </tr>\n",
       "    <tr>\n",
       "      <th>8</th>\n",
       "      <td>46</td>\n",
       "      <td>1</td>\n",
       "      <td>0</td>\n",
       "      <td>120</td>\n",
       "      <td>249</td>\n",
       "      <td>0</td>\n",
       "      <td>0</td>\n",
       "      <td>144</td>\n",
       "      <td>0</td>\n",
       "      <td>0.8</td>\n",
       "      <td>2</td>\n",
       "      <td>0</td>\n",
       "      <td>3</td>\n",
       "      <td>0</td>\n",
       "    </tr>\n",
       "    <tr>\n",
       "      <th>9</th>\n",
       "      <td>54</td>\n",
       "      <td>1</td>\n",
       "      <td>0</td>\n",
       "      <td>122</td>\n",
       "      <td>286</td>\n",
       "      <td>0</td>\n",
       "      <td>0</td>\n",
       "      <td>116</td>\n",
       "      <td>1</td>\n",
       "      <td>3.2</td>\n",
       "      <td>1</td>\n",
       "      <td>2</td>\n",
       "      <td>2</td>\n",
       "      <td>0</td>\n",
       "    </tr>\n",
       "    <tr>\n",
       "      <th>10</th>\n",
       "      <td>71</td>\n",
       "      <td>0</td>\n",
       "      <td>0</td>\n",
       "      <td>112</td>\n",
       "      <td>149</td>\n",
       "      <td>0</td>\n",
       "      <td>1</td>\n",
       "      <td>125</td>\n",
       "      <td>0</td>\n",
       "      <td>1.6</td>\n",
       "      <td>1</td>\n",
       "      <td>0</td>\n",
       "      <td>2</td>\n",
       "      <td>1</td>\n",
       "    </tr>\n",
       "    <tr>\n",
       "      <th>11</th>\n",
       "      <td>43</td>\n",
       "      <td>0</td>\n",
       "      <td>0</td>\n",
       "      <td>132</td>\n",
       "      <td>341</td>\n",
       "      <td>1</td>\n",
       "      <td>0</td>\n",
       "      <td>136</td>\n",
       "      <td>1</td>\n",
       "      <td>3.0</td>\n",
       "      <td>1</td>\n",
       "      <td>0</td>\n",
       "      <td>3</td>\n",
       "      <td>0</td>\n",
       "    </tr>\n",
       "    <tr>\n",
       "      <th>12</th>\n",
       "      <td>34</td>\n",
       "      <td>0</td>\n",
       "      <td>1</td>\n",
       "      <td>118</td>\n",
       "      <td>210</td>\n",
       "      <td>0</td>\n",
       "      <td>1</td>\n",
       "      <td>192</td>\n",
       "      <td>0</td>\n",
       "      <td>0.7</td>\n",
       "      <td>2</td>\n",
       "      <td>0</td>\n",
       "      <td>2</td>\n",
       "      <td>1</td>\n",
       "    </tr>\n",
       "    <tr>\n",
       "      <th>13</th>\n",
       "      <td>51</td>\n",
       "      <td>1</td>\n",
       "      <td>0</td>\n",
       "      <td>140</td>\n",
       "      <td>298</td>\n",
       "      <td>0</td>\n",
       "      <td>1</td>\n",
       "      <td>122</td>\n",
       "      <td>1</td>\n",
       "      <td>4.2</td>\n",
       "      <td>1</td>\n",
       "      <td>3</td>\n",
       "      <td>3</td>\n",
       "      <td>0</td>\n",
       "    </tr>\n",
       "    <tr>\n",
       "      <th>14</th>\n",
       "      <td>52</td>\n",
       "      <td>1</td>\n",
       "      <td>0</td>\n",
       "      <td>128</td>\n",
       "      <td>204</td>\n",
       "      <td>1</td>\n",
       "      <td>1</td>\n",
       "      <td>156</td>\n",
       "      <td>1</td>\n",
       "      <td>1.0</td>\n",
       "      <td>1</td>\n",
       "      <td>0</td>\n",
       "      <td>0</td>\n",
       "      <td>0</td>\n",
       "    </tr>\n",
       "    <tr>\n",
       "      <th>15</th>\n",
       "      <td>34</td>\n",
       "      <td>0</td>\n",
       "      <td>1</td>\n",
       "      <td>118</td>\n",
       "      <td>210</td>\n",
       "      <td>0</td>\n",
       "      <td>1</td>\n",
       "      <td>192</td>\n",
       "      <td>0</td>\n",
       "      <td>0.7</td>\n",
       "      <td>2</td>\n",
       "      <td>0</td>\n",
       "      <td>2</td>\n",
       "      <td>1</td>\n",
       "    </tr>\n",
       "    <tr>\n",
       "      <th>16</th>\n",
       "      <td>51</td>\n",
       "      <td>0</td>\n",
       "      <td>2</td>\n",
       "      <td>140</td>\n",
       "      <td>308</td>\n",
       "      <td>0</td>\n",
       "      <td>0</td>\n",
       "      <td>142</td>\n",
       "      <td>0</td>\n",
       "      <td>1.5</td>\n",
       "      <td>2</td>\n",
       "      <td>1</td>\n",
       "      <td>2</td>\n",
       "      <td>1</td>\n",
       "    </tr>\n",
       "    <tr>\n",
       "      <th>17</th>\n",
       "      <td>54</td>\n",
       "      <td>1</td>\n",
       "      <td>0</td>\n",
       "      <td>124</td>\n",
       "      <td>266</td>\n",
       "      <td>0</td>\n",
       "      <td>0</td>\n",
       "      <td>109</td>\n",
       "      <td>1</td>\n",
       "      <td>2.2</td>\n",
       "      <td>1</td>\n",
       "      <td>1</td>\n",
       "      <td>3</td>\n",
       "      <td>0</td>\n",
       "    </tr>\n",
       "    <tr>\n",
       "      <th>18</th>\n",
       "      <td>50</td>\n",
       "      <td>0</td>\n",
       "      <td>1</td>\n",
       "      <td>120</td>\n",
       "      <td>244</td>\n",
       "      <td>0</td>\n",
       "      <td>1</td>\n",
       "      <td>162</td>\n",
       "      <td>0</td>\n",
       "      <td>1.1</td>\n",
       "      <td>2</td>\n",
       "      <td>0</td>\n",
       "      <td>2</td>\n",
       "      <td>1</td>\n",
       "    </tr>\n",
       "    <tr>\n",
       "      <th>19</th>\n",
       "      <td>58</td>\n",
       "      <td>1</td>\n",
       "      <td>2</td>\n",
       "      <td>140</td>\n",
       "      <td>211</td>\n",
       "      <td>1</td>\n",
       "      <td>0</td>\n",
       "      <td>165</td>\n",
       "      <td>0</td>\n",
       "      <td>0.0</td>\n",
       "      <td>2</td>\n",
       "      <td>0</td>\n",
       "      <td>2</td>\n",
       "      <td>1</td>\n",
       "    </tr>\n",
       "  </tbody>\n",
       "</table>\n",
       "</div>"
      ],
      "text/plain": [
       "    Age  Sex  ChestPain  RestingBloodPressure  Cholestoral  FastingBloodSugar  \\\n",
       "0    52    1          0                   125          212                  0   \n",
       "1    53    1          0                   140          203                  1   \n",
       "2    70    1          0                   145          174                  0   \n",
       "3    61    1          0                   148          203                  0   \n",
       "4    62    0          0                   138          294                  1   \n",
       "5    58    0          0                   100          248                  0   \n",
       "6    58    1          0                   114          318                  0   \n",
       "7    55    1          0                   160          289                  0   \n",
       "8    46    1          0                   120          249                  0   \n",
       "9    54    1          0                   122          286                  0   \n",
       "10   71    0          0                   112          149                  0   \n",
       "11   43    0          0                   132          341                  1   \n",
       "12   34    0          1                   118          210                  0   \n",
       "13   51    1          0                   140          298                  0   \n",
       "14   52    1          0                   128          204                  1   \n",
       "15   34    0          1                   118          210                  0   \n",
       "16   51    0          2                   140          308                  0   \n",
       "17   54    1          0                   124          266                  0   \n",
       "18   50    0          1                   120          244                  0   \n",
       "19   58    1          2                   140          211                  1   \n",
       "\n",
       "    CardiographicResults  MaximumHeartRate  ExerciseInducedAngina  Depression  \\\n",
       "0                      1               168                      0         1.0   \n",
       "1                      0               155                      1         3.1   \n",
       "2                      1               125                      1         2.6   \n",
       "3                      1               161                      0         0.0   \n",
       "4                      1               106                      0         1.9   \n",
       "5                      0               122                      0         1.0   \n",
       "6                      2               140                      0         4.4   \n",
       "7                      0               145                      1         0.8   \n",
       "8                      0               144                      0         0.8   \n",
       "9                      0               116                      1         3.2   \n",
       "10                     1               125                      0         1.6   \n",
       "11                     0               136                      1         3.0   \n",
       "12                     1               192                      0         0.7   \n",
       "13                     1               122                      1         4.2   \n",
       "14                     1               156                      1         1.0   \n",
       "15                     1               192                      0         0.7   \n",
       "16                     0               142                      0         1.5   \n",
       "17                     0               109                      1         2.2   \n",
       "18                     1               162                      0         1.1   \n",
       "19                     0               165                      0         0.0   \n",
       "\n",
       "    Slope  MajorVessels  Thalassemia  Target  \n",
       "0       2             2            3       0  \n",
       "1       0             0            3       0  \n",
       "2       0             0            3       0  \n",
       "3       2             1            3       0  \n",
       "4       1             3            2       0  \n",
       "5       1             0            2       1  \n",
       "6       0             3            1       0  \n",
       "7       1             1            3       0  \n",
       "8       2             0            3       0  \n",
       "9       1             2            2       0  \n",
       "10      1             0            2       1  \n",
       "11      1             0            3       0  \n",
       "12      2             0            2       1  \n",
       "13      1             3            3       0  \n",
       "14      1             0            0       0  \n",
       "15      2             0            2       1  \n",
       "16      2             1            2       1  \n",
       "17      1             1            3       0  \n",
       "18      2             0            2       1  \n",
       "19      2             0            2       1  "
      ]
     },
     "execution_count": 6,
     "metadata": {},
     "output_type": "execute_result"
    }
   ],
   "source": [
    "# rename the coulmns for beter understande  \n",
    "\n",
    "df.columns = ['Age','Sex','ChestPain','RestingBloodPressure', 'Cholestoral','FastingBloodSugar',\n",
    "              'CardiographicResults','MaximumHeartRate','ExerciseInducedAngina', 'Depression','Slope','MajorVessels',\n",
    "              'Thalassemia','Target']\n",
    "df.head(20)"
   ]
  },
  {
   "cell_type": "code",
   "execution_count": 7,
   "metadata": {},
   "outputs": [
    {
     "data": {
      "text/html": [
       "<div>\n",
       "<style scoped>\n",
       "    .dataframe tbody tr th:only-of-type {\n",
       "        vertical-align: middle;\n",
       "    }\n",
       "\n",
       "    .dataframe tbody tr th {\n",
       "        vertical-align: top;\n",
       "    }\n",
       "\n",
       "    .dataframe thead th {\n",
       "        text-align: right;\n",
       "    }\n",
       "</style>\n",
       "<table border=\"1\" class=\"dataframe\">\n",
       "  <thead>\n",
       "    <tr style=\"text-align: right;\">\n",
       "      <th></th>\n",
       "      <th>Age</th>\n",
       "      <th>Sex</th>\n",
       "      <th>ChestPain</th>\n",
       "      <th>RestingBloodPressure</th>\n",
       "      <th>Cholestoral</th>\n",
       "      <th>FastingBloodSugar</th>\n",
       "      <th>CardiographicResults</th>\n",
       "      <th>MaximumHeartRate</th>\n",
       "      <th>ExerciseInducedAngina</th>\n",
       "      <th>Depression</th>\n",
       "      <th>Slope</th>\n",
       "      <th>MajorVessels</th>\n",
       "      <th>Thalassemia</th>\n",
       "      <th>Target</th>\n",
       "    </tr>\n",
       "  </thead>\n",
       "  <tbody>\n",
       "    <tr>\n",
       "      <th>count</th>\n",
       "      <td>1025.000000</td>\n",
       "      <td>1025.000000</td>\n",
       "      <td>1025.000000</td>\n",
       "      <td>1025.000000</td>\n",
       "      <td>1025.00000</td>\n",
       "      <td>1025.000000</td>\n",
       "      <td>1025.000000</td>\n",
       "      <td>1025.000000</td>\n",
       "      <td>1025.000000</td>\n",
       "      <td>1025.000000</td>\n",
       "      <td>1025.000000</td>\n",
       "      <td>1025.000000</td>\n",
       "      <td>1025.000000</td>\n",
       "      <td>1025.000000</td>\n",
       "    </tr>\n",
       "    <tr>\n",
       "      <th>mean</th>\n",
       "      <td>54.434146</td>\n",
       "      <td>0.695610</td>\n",
       "      <td>0.942439</td>\n",
       "      <td>131.611707</td>\n",
       "      <td>246.00000</td>\n",
       "      <td>0.149268</td>\n",
       "      <td>0.529756</td>\n",
       "      <td>149.114146</td>\n",
       "      <td>0.336585</td>\n",
       "      <td>1.071512</td>\n",
       "      <td>1.385366</td>\n",
       "      <td>0.754146</td>\n",
       "      <td>2.323902</td>\n",
       "      <td>0.513171</td>\n",
       "    </tr>\n",
       "    <tr>\n",
       "      <th>std</th>\n",
       "      <td>9.072290</td>\n",
       "      <td>0.460373</td>\n",
       "      <td>1.029641</td>\n",
       "      <td>17.516718</td>\n",
       "      <td>51.59251</td>\n",
       "      <td>0.356527</td>\n",
       "      <td>0.527878</td>\n",
       "      <td>23.005724</td>\n",
       "      <td>0.472772</td>\n",
       "      <td>1.175053</td>\n",
       "      <td>0.617755</td>\n",
       "      <td>1.030798</td>\n",
       "      <td>0.620660</td>\n",
       "      <td>0.500070</td>\n",
       "    </tr>\n",
       "    <tr>\n",
       "      <th>min</th>\n",
       "      <td>29.000000</td>\n",
       "      <td>0.000000</td>\n",
       "      <td>0.000000</td>\n",
       "      <td>94.000000</td>\n",
       "      <td>126.00000</td>\n",
       "      <td>0.000000</td>\n",
       "      <td>0.000000</td>\n",
       "      <td>71.000000</td>\n",
       "      <td>0.000000</td>\n",
       "      <td>0.000000</td>\n",
       "      <td>0.000000</td>\n",
       "      <td>0.000000</td>\n",
       "      <td>0.000000</td>\n",
       "      <td>0.000000</td>\n",
       "    </tr>\n",
       "    <tr>\n",
       "      <th>25%</th>\n",
       "      <td>48.000000</td>\n",
       "      <td>0.000000</td>\n",
       "      <td>0.000000</td>\n",
       "      <td>120.000000</td>\n",
       "      <td>211.00000</td>\n",
       "      <td>0.000000</td>\n",
       "      <td>0.000000</td>\n",
       "      <td>132.000000</td>\n",
       "      <td>0.000000</td>\n",
       "      <td>0.000000</td>\n",
       "      <td>1.000000</td>\n",
       "      <td>0.000000</td>\n",
       "      <td>2.000000</td>\n",
       "      <td>0.000000</td>\n",
       "    </tr>\n",
       "    <tr>\n",
       "      <th>50%</th>\n",
       "      <td>56.000000</td>\n",
       "      <td>1.000000</td>\n",
       "      <td>1.000000</td>\n",
       "      <td>130.000000</td>\n",
       "      <td>240.00000</td>\n",
       "      <td>0.000000</td>\n",
       "      <td>1.000000</td>\n",
       "      <td>152.000000</td>\n",
       "      <td>0.000000</td>\n",
       "      <td>0.800000</td>\n",
       "      <td>1.000000</td>\n",
       "      <td>0.000000</td>\n",
       "      <td>2.000000</td>\n",
       "      <td>1.000000</td>\n",
       "    </tr>\n",
       "    <tr>\n",
       "      <th>75%</th>\n",
       "      <td>61.000000</td>\n",
       "      <td>1.000000</td>\n",
       "      <td>2.000000</td>\n",
       "      <td>140.000000</td>\n",
       "      <td>275.00000</td>\n",
       "      <td>0.000000</td>\n",
       "      <td>1.000000</td>\n",
       "      <td>166.000000</td>\n",
       "      <td>1.000000</td>\n",
       "      <td>1.800000</td>\n",
       "      <td>2.000000</td>\n",
       "      <td>1.000000</td>\n",
       "      <td>3.000000</td>\n",
       "      <td>1.000000</td>\n",
       "    </tr>\n",
       "    <tr>\n",
       "      <th>max</th>\n",
       "      <td>77.000000</td>\n",
       "      <td>1.000000</td>\n",
       "      <td>3.000000</td>\n",
       "      <td>200.000000</td>\n",
       "      <td>564.00000</td>\n",
       "      <td>1.000000</td>\n",
       "      <td>2.000000</td>\n",
       "      <td>202.000000</td>\n",
       "      <td>1.000000</td>\n",
       "      <td>6.200000</td>\n",
       "      <td>2.000000</td>\n",
       "      <td>4.000000</td>\n",
       "      <td>3.000000</td>\n",
       "      <td>1.000000</td>\n",
       "    </tr>\n",
       "  </tbody>\n",
       "</table>\n",
       "</div>"
      ],
      "text/plain": [
       "               Age          Sex    ChestPain  RestingBloodPressure  \\\n",
       "count  1025.000000  1025.000000  1025.000000           1025.000000   \n",
       "mean     54.434146     0.695610     0.942439            131.611707   \n",
       "std       9.072290     0.460373     1.029641             17.516718   \n",
       "min      29.000000     0.000000     0.000000             94.000000   \n",
       "25%      48.000000     0.000000     0.000000            120.000000   \n",
       "50%      56.000000     1.000000     1.000000            130.000000   \n",
       "75%      61.000000     1.000000     2.000000            140.000000   \n",
       "max      77.000000     1.000000     3.000000            200.000000   \n",
       "\n",
       "       Cholestoral  FastingBloodSugar  CardiographicResults  MaximumHeartRate  \\\n",
       "count   1025.00000        1025.000000           1025.000000       1025.000000   \n",
       "mean     246.00000           0.149268              0.529756        149.114146   \n",
       "std       51.59251           0.356527              0.527878         23.005724   \n",
       "min      126.00000           0.000000              0.000000         71.000000   \n",
       "25%      211.00000           0.000000              0.000000        132.000000   \n",
       "50%      240.00000           0.000000              1.000000        152.000000   \n",
       "75%      275.00000           0.000000              1.000000        166.000000   \n",
       "max      564.00000           1.000000              2.000000        202.000000   \n",
       "\n",
       "       ExerciseInducedAngina   Depression        Slope  MajorVessels  \\\n",
       "count            1025.000000  1025.000000  1025.000000   1025.000000   \n",
       "mean                0.336585     1.071512     1.385366      0.754146   \n",
       "std                 0.472772     1.175053     0.617755      1.030798   \n",
       "min                 0.000000     0.000000     0.000000      0.000000   \n",
       "25%                 0.000000     0.000000     1.000000      0.000000   \n",
       "50%                 0.000000     0.800000     1.000000      0.000000   \n",
       "75%                 1.000000     1.800000     2.000000      1.000000   \n",
       "max                 1.000000     6.200000     2.000000      4.000000   \n",
       "\n",
       "       Thalassemia       Target  \n",
       "count  1025.000000  1025.000000  \n",
       "mean      2.323902     0.513171  \n",
       "std       0.620660     0.500070  \n",
       "min       0.000000     0.000000  \n",
       "25%       2.000000     0.000000  \n",
       "50%       2.000000     1.000000  \n",
       "75%       3.000000     1.000000  \n",
       "max       3.000000     1.000000  "
      ]
     },
     "execution_count": 7,
     "metadata": {},
     "output_type": "execute_result"
    }
   ],
   "source": [
    "df.describe()"
   ]
  },
  {
   "cell_type": "markdown",
   "metadata": {},
   "source": [
    "### Data Describtions\n",
    "\n",
    "- 'age':  age betoween 29 to 77 years old\n",
    "\n",
    "- 'sex':  sex (1 = male; 0 = female)\n",
    "\n",
    "- 'cp': chest pain type (4 values) (? we need more info) from UCI:\n",
    "\n",
    "-- Value 1: typical angina\n",
    "\n",
    "-- Value 2: atypical angina\n",
    "\n",
    "-- Value 3: non-anginal pain\n",
    "\n",
    "-- Value 4: asymptomatic\n",
    "\n",
    "\n",
    "- 'trestbps': resting blood pressure(in mm Hg on admission to the hospital) ( lowest 94 and highest 200) \n",
    "\n",
    "- 'chol': serum cholestoral in mg/dl\n",
    "\n",
    "- 'fbs' : fasting blood sugar > 120 mg/dl(1 = true; 0 = false)\n",
    "\n",
    "- 'restecg' : resting electro cardiographic results (values 0,1,2) (? we need more info) from UCI:\n",
    "\n",
    "-- Value 0: normal\n",
    "\n",
    "-- Value 1: having ST-T wave abnormality (T wave inversions and/or ST elevation or depression of > 0.05 mV)\n",
    "\n",
    "-- Value 2: showing probable or definite left ventricular hypertrophy by Estes' criteria\n",
    "\n",
    "\n",
    "- 'thalach': maximum heart rate achieved  between 71 and 202\n",
    "\n",
    "- 'exang': exercise induced angina (1 = yes; 0 = no) ( chest pain or pressure due to not enough blood flow to thr heart)\n",
    "\n",
    "- 'oldpeak': oldpeak = ST depression induced by exercise relative to rest\n",
    "\n",
    "- 'slope': the slope of the peak exercise ST segment\n",
    "\n",
    "- 'ca': number of major vessels (0-3) colored by flourosopy (need to know more)\n",
    "\n",
    "- 'thal': thal: 0 = normal; 1 = fixed defect; 2 = reversable defect (Thalassemia (thal-uh-SEE-me-uh) is an inherited blood disorder that causes your body to have less hemoglobin than normal.)\n",
    "\n",
    "- 'target': The \"target\" field refers to the presence of heart disease in the patient. It is integer valued 0 = no disease and 1 = disease."
   ]
  },
  {
   "cell_type": "code",
   "execution_count": 8,
   "metadata": {
    "scrolled": true
   },
   "outputs": [
    {
     "data": {
      "text/plain": [
       "Age                      0\n",
       "Sex                      0\n",
       "ChestPain                0\n",
       "RestingBloodPressure     0\n",
       "Cholestoral              0\n",
       "FastingBloodSugar        0\n",
       "CardiographicResults     0\n",
       "MaximumHeartRate         0\n",
       "ExerciseInducedAngina    0\n",
       "Depression               0\n",
       "Slope                    0\n",
       "MajorVessels             0\n",
       "Thalassemia              0\n",
       "Target                   0\n",
       "dtype: int64"
      ]
     },
     "execution_count": 8,
     "metadata": {},
     "output_type": "execute_result"
    }
   ],
   "source": [
    "# check ro missing values\n",
    "df.isnull().sum()"
   ]
  },
  {
   "cell_type": "markdown",
   "metadata": {},
   "source": [
    " **There are a total of 13 features and 1 target variable. Also, there are no missing values so we don’t need to take care of any null values.**"
   ]
  },
  {
   "cell_type": "markdown",
   "metadata": {},
   "source": [
    "###  Bar Plot for Target Class"
   ]
  },
  {
   "cell_type": "code",
   "execution_count": 9,
   "metadata": {},
   "outputs": [
    {
     "data": {
      "text/plain": [
       "<matplotlib.axes._subplots.AxesSubplot at 0x25c33c20e88>"
      ]
     },
     "execution_count": 9,
     "metadata": {},
     "output_type": "execute_result"
    },
    {
     "data": {
      "image/png": "[encoded data removed]",
      "text/plain": [
       "<Figure size 432x288 with 1 Axes>"
      ]
     },
     "metadata": {
      "needs_background": "light"
     },
     "output_type": "display_data"
    }
   ],
   "source": [
    "# distribution of our target varible\n",
    "sns.countplot(df['Target'])"
   ]
  },
  {
   "cell_type": "markdown",
   "metadata": {},
   "source": [
    "**From the plot, we can see that the classes are almost balanced** "
   ]
  },
  {
   "cell_type": "markdown",
   "metadata": {},
   "source": [
    "### Histogram"
   ]
  },
  {
   "cell_type": "code",
   "execution_count": 10,
   "metadata": {},
   "outputs": [
    {
     "data": {
      "text/plain": [
       "array([[<matplotlib.axes._subplots.AxesSubplot object at 0x0000025C344052C8>,\n",
       "        <matplotlib.axes._subplots.AxesSubplot object at 0x0000025C33C3F948>,\n",
       "        <matplotlib.axes._subplots.AxesSubplot object at 0x0000025C34469188>,\n",
       "        <matplotlib.axes._subplots.AxesSubplot object at 0x0000025C344A2288>],\n",
       "       [<matplotlib.axes._subplots.AxesSubplot object at 0x0000025C344DB388>,\n",
       "        <matplotlib.axes._subplots.AxesSubplot object at 0x0000025C34512448>,\n",
       "        <matplotlib.axes._subplots.AxesSubplot object at 0x0000025C34552F88>,\n",
       "        <matplotlib.axes._subplots.AxesSubplot object at 0x0000025C345866C8>],\n",
       "       [<matplotlib.axes._subplots.AxesSubplot object at 0x0000025C34591288>,\n",
       "        <matplotlib.axes._subplots.AxesSubplot object at 0x0000025C345C9448>,\n",
       "        <matplotlib.axes._subplots.AxesSubplot object at 0x0000025C34630948>,\n",
       "        <matplotlib.axes._subplots.AxesSubplot object at 0x0000025C3466AA48>],\n",
       "       [<matplotlib.axes._subplots.AxesSubplot object at 0x0000025C346A1B48>,\n",
       "        <matplotlib.axes._subplots.AxesSubplot object at 0x0000025C346D9C88>,\n",
       "        <matplotlib.axes._subplots.AxesSubplot object at 0x0000025C34713D88>,\n",
       "        <matplotlib.axes._subplots.AxesSubplot object at 0x0000025C3474BF08>]],\n",
       "      dtype=object)"
      ]
     },
     "execution_count": 10,
     "metadata": {},
     "output_type": "execute_result"
    },
    {
     "data": {
      "image/png": "[encoded data removed]",
      "text/plain": [
       "<Figure size 1080x1080 with 16 Axes>"
      ]
     },
     "metadata": {
      "needs_background": "light"
     },
     "output_type": "display_data"
    }
   ],
   "source": [
    "#plot the frequency count for each column\n",
    "df.hist(figsize=(15,15))"
   ]
  },
  {
   "cell_type": "markdown",
   "metadata": {},
   "source": [
    "**The plot shows:**\n",
    "- each feature and label is distributed along different ranges ( need scaling)\n",
    "- discrete bars, it basically means that each of these is actually a categorical variable.(need to encoding)  \n",
    "- target labels have two classes, 0 for no disease and 1 for disease."
   ]
  },
  {
   "cell_type": "markdown",
   "metadata": {},
   "source": [
    "# Data Processing\n",
    "\n",
    "- use **one-hot encoding** to numerically represent the discrete (categorical) data values \n",
    "\n",
    "- Z-score standardization to have a mean of 0 and a standard deviation of 1"
   ]
  },
  {
   "cell_type": "code",
   "execution_count": 11,
   "metadata": {},
   "outputs": [
    {
     "data": {
      "text/html": [
       "<div>\n",
       "<style scoped>\n",
       "    .dataframe tbody tr th:only-of-type {\n",
       "        vertical-align: middle;\n",
       "    }\n",
       "\n",
       "    .dataframe tbody tr th {\n",
       "        vertical-align: top;\n",
       "    }\n",
       "\n",
       "    .dataframe thead th {\n",
       "        text-align: right;\n",
       "    }\n",
       "</style>\n",
       "<table border=\"1\" class=\"dataframe\">\n",
       "  <thead>\n",
       "    <tr style=\"text-align: right;\">\n",
       "      <th></th>\n",
       "      <th>Age</th>\n",
       "      <th>RestingBloodPressure</th>\n",
       "      <th>Cholestoral</th>\n",
       "      <th>MaximumHeartRate</th>\n",
       "      <th>Depression</th>\n",
       "      <th>Target</th>\n",
       "      <th>Sex_0</th>\n",
       "      <th>Sex_1</th>\n",
       "      <th>ChestPain_0</th>\n",
       "      <th>ChestPain_1</th>\n",
       "      <th>...</th>\n",
       "      <th>Slope_2</th>\n",
       "      <th>MajorVessels_0</th>\n",
       "      <th>MajorVessels_1</th>\n",
       "      <th>MajorVessels_2</th>\n",
       "      <th>MajorVessels_3</th>\n",
       "      <th>MajorVessels_4</th>\n",
       "      <th>Thalassemia_0</th>\n",
       "      <th>Thalassemia_1</th>\n",
       "      <th>Thalassemia_2</th>\n",
       "      <th>Thalassemia_3</th>\n",
       "    </tr>\n",
       "  </thead>\n",
       "  <tbody>\n",
       "    <tr>\n",
       "      <th>0</th>\n",
       "      <td>52</td>\n",
       "      <td>125</td>\n",
       "      <td>212</td>\n",
       "      <td>168</td>\n",
       "      <td>1.0</td>\n",
       "      <td>0</td>\n",
       "      <td>0</td>\n",
       "      <td>1</td>\n",
       "      <td>1</td>\n",
       "      <td>0</td>\n",
       "      <td>...</td>\n",
       "      <td>1</td>\n",
       "      <td>0</td>\n",
       "      <td>0</td>\n",
       "      <td>1</td>\n",
       "      <td>0</td>\n",
       "      <td>0</td>\n",
       "      <td>0</td>\n",
       "      <td>0</td>\n",
       "      <td>0</td>\n",
       "      <td>1</td>\n",
       "    </tr>\n",
       "    <tr>\n",
       "      <th>1</th>\n",
       "      <td>53</td>\n",
       "      <td>140</td>\n",
       "      <td>203</td>\n",
       "      <td>155</td>\n",
       "      <td>3.1</td>\n",
       "      <td>0</td>\n",
       "      <td>0</td>\n",
       "      <td>1</td>\n",
       "      <td>1</td>\n",
       "      <td>0</td>\n",
       "      <td>...</td>\n",
       "      <td>0</td>\n",
       "      <td>1</td>\n",
       "      <td>0</td>\n",
       "      <td>0</td>\n",
       "      <td>0</td>\n",
       "      <td>0</td>\n",
       "      <td>0</td>\n",
       "      <td>0</td>\n",
       "      <td>0</td>\n",
       "      <td>1</td>\n",
       "    </tr>\n",
       "    <tr>\n",
       "      <th>2</th>\n",
       "      <td>70</td>\n",
       "      <td>145</td>\n",
       "      <td>174</td>\n",
       "      <td>125</td>\n",
       "      <td>2.6</td>\n",
       "      <td>0</td>\n",
       "      <td>0</td>\n",
       "      <td>1</td>\n",
       "      <td>1</td>\n",
       "      <td>0</td>\n",
       "      <td>...</td>\n",
       "      <td>0</td>\n",
       "      <td>1</td>\n",
       "      <td>0</td>\n",
       "      <td>0</td>\n",
       "      <td>0</td>\n",
       "      <td>0</td>\n",
       "      <td>0</td>\n",
       "      <td>0</td>\n",
       "      <td>0</td>\n",
       "      <td>1</td>\n",
       "    </tr>\n",
       "    <tr>\n",
       "      <th>3</th>\n",
       "      <td>61</td>\n",
       "      <td>148</td>\n",
       "      <td>203</td>\n",
       "      <td>161</td>\n",
       "      <td>0.0</td>\n",
       "      <td>0</td>\n",
       "      <td>0</td>\n",
       "      <td>1</td>\n",
       "      <td>1</td>\n",
       "      <td>0</td>\n",
       "      <td>...</td>\n",
       "      <td>1</td>\n",
       "      <td>0</td>\n",
       "      <td>1</td>\n",
       "      <td>0</td>\n",
       "      <td>0</td>\n",
       "      <td>0</td>\n",
       "      <td>0</td>\n",
       "      <td>0</td>\n",
       "      <td>0</td>\n",
       "      <td>1</td>\n",
       "    </tr>\n",
       "    <tr>\n",
       "      <th>4</th>\n",
       "      <td>62</td>\n",
       "      <td>138</td>\n",
       "      <td>294</td>\n",
       "      <td>106</td>\n",
       "      <td>1.9</td>\n",
       "      <td>0</td>\n",
       "      <td>1</td>\n",
       "      <td>0</td>\n",
       "      <td>1</td>\n",
       "      <td>0</td>\n",
       "      <td>...</td>\n",
       "      <td>0</td>\n",
       "      <td>0</td>\n",
       "      <td>0</td>\n",
       "      <td>0</td>\n",
       "      <td>1</td>\n",
       "      <td>0</td>\n",
       "      <td>0</td>\n",
       "      <td>0</td>\n",
       "      <td>1</td>\n",
       "      <td>0</td>\n",
       "    </tr>\n",
       "  </tbody>\n",
       "</table>\n",
       "<p>5 rows × 31 columns</p>\n",
       "</div>"
      ],
      "text/plain": [
       "   Age  RestingBloodPressure  Cholestoral  MaximumHeartRate  Depression  \\\n",
       "0   52                   125          212               168         1.0   \n",
       "1   53                   140          203               155         3.1   \n",
       "2   70                   145          174               125         2.6   \n",
       "3   61                   148          203               161         0.0   \n",
       "4   62                   138          294               106         1.9   \n",
       "\n",
       "   Target  Sex_0  Sex_1  ChestPain_0  ChestPain_1  ...  Slope_2  \\\n",
       "0       0      0      1            1            0  ...        1   \n",
       "1       0      0      1            1            0  ...        0   \n",
       "2       0      0      1            1            0  ...        0   \n",
       "3       0      0      1            1            0  ...        1   \n",
       "4       0      1      0            1            0  ...        0   \n",
       "\n",
       "   MajorVessels_0  MajorVessels_1  MajorVessels_2  MajorVessels_3  \\\n",
       "0               0               0               1               0   \n",
       "1               1               0               0               0   \n",
       "2               1               0               0               0   \n",
       "3               0               1               0               0   \n",
       "4               0               0               0               1   \n",
       "\n",
       "   MajorVessels_4  Thalassemia_0  Thalassemia_1  Thalassemia_2  Thalassemia_3  \n",
       "0               0              0              0              0              1  \n",
       "1               0              0              0              0              1  \n",
       "2               0              0              0              0              1  \n",
       "3               0              0              0              0              1  \n",
       "4               0              0              0              1              0  \n",
       "\n",
       "[5 rows x 31 columns]"
      ]
     },
     "execution_count": 11,
     "metadata": {},
     "output_type": "execute_result"
    }
   ],
   "source": [
    "# dummy variables for the discrete categorical data\n",
    "\n",
    "dataset = pd.get_dummies(data=df, columns=['Sex','ChestPain','FastingBloodSugar', 'CardiographicResults',\n",
    "                                           'ExerciseInducedAngina', 'Slope', 'MajorVessels','Thalassemia'])\n",
    "dataset.head()"
   ]
  },
  {
   "cell_type": "code",
   "execution_count": 12,
   "metadata": {},
   "outputs": [
    {
     "data": {
      "text/html": [
       "<div>\n",
       "<style scoped>\n",
       "    .dataframe tbody tr th:only-of-type {\n",
       "        vertical-align: middle;\n",
       "    }\n",
       "\n",
       "    .dataframe tbody tr th {\n",
       "        vertical-align: top;\n",
       "    }\n",
       "\n",
       "    .dataframe thead th {\n",
       "        text-align: right;\n",
       "    }\n",
       "</style>\n",
       "<table border=\"1\" class=\"dataframe\">\n",
       "  <thead>\n",
       "    <tr style=\"text-align: right;\">\n",
       "      <th></th>\n",
       "      <th>Age</th>\n",
       "      <th>RestingBloodPressure</th>\n",
       "      <th>Cholestoral</th>\n",
       "      <th>MaximumHeartRate</th>\n",
       "      <th>Depression</th>\n",
       "      <th>Sex_0</th>\n",
       "      <th>Sex_1</th>\n",
       "      <th>ChestPain_0</th>\n",
       "      <th>ChestPain_1</th>\n",
       "      <th>ChestPain_2</th>\n",
       "      <th>...</th>\n",
       "      <th>MajorVessels_0</th>\n",
       "      <th>MajorVessels_1</th>\n",
       "      <th>MajorVessels_2</th>\n",
       "      <th>MajorVessels_3</th>\n",
       "      <th>MajorVessels_4</th>\n",
       "      <th>Thalassemia_0</th>\n",
       "      <th>Thalassemia_1</th>\n",
       "      <th>Thalassemia_2</th>\n",
       "      <th>Thalassemia_3</th>\n",
       "      <th>Target</th>\n",
       "    </tr>\n",
       "  </thead>\n",
       "  <tbody>\n",
       "    <tr>\n",
       "      <th>0</th>\n",
       "      <td>-0.268437</td>\n",
       "      <td>-0.377636</td>\n",
       "      <td>-0.659332</td>\n",
       "      <td>0.821321</td>\n",
       "      <td>-0.060888</td>\n",
       "      <td>-0.661504</td>\n",
       "      <td>0.661504</td>\n",
       "      <td>1.030715</td>\n",
       "      <td>-0.441179</td>\n",
       "      <td>-0.619085</td>\n",
       "      <td>...</td>\n",
       "      <td>-1.137130</td>\n",
       "      <td>-0.531840</td>\n",
       "      <td>2.578615</td>\n",
       "      <td>-0.268655</td>\n",
       "      <td>-0.133697</td>\n",
       "      <td>-0.082923</td>\n",
       "      <td>-0.258065</td>\n",
       "      <td>-1.063474</td>\n",
       "      <td>1.224745</td>\n",
       "      <td>0</td>\n",
       "    </tr>\n",
       "    <tr>\n",
       "      <th>1</th>\n",
       "      <td>-0.158157</td>\n",
       "      <td>0.479107</td>\n",
       "      <td>-0.833861</td>\n",
       "      <td>0.255968</td>\n",
       "      <td>1.727137</td>\n",
       "      <td>-0.661504</td>\n",
       "      <td>0.661504</td>\n",
       "      <td>1.030715</td>\n",
       "      <td>-0.441179</td>\n",
       "      <td>-0.619085</td>\n",
       "      <td>...</td>\n",
       "      <td>0.879407</td>\n",
       "      <td>-0.531840</td>\n",
       "      <td>-0.387805</td>\n",
       "      <td>-0.268655</td>\n",
       "      <td>-0.133697</td>\n",
       "      <td>-0.082923</td>\n",
       "      <td>-0.258065</td>\n",
       "      <td>-1.063474</td>\n",
       "      <td>1.224745</td>\n",
       "      <td>0</td>\n",
       "    </tr>\n",
       "    <tr>\n",
       "      <th>2</th>\n",
       "      <td>1.716595</td>\n",
       "      <td>0.764688</td>\n",
       "      <td>-1.396233</td>\n",
       "      <td>-1.048692</td>\n",
       "      <td>1.301417</td>\n",
       "      <td>-0.661504</td>\n",
       "      <td>0.661504</td>\n",
       "      <td>1.030715</td>\n",
       "      <td>-0.441179</td>\n",
       "      <td>-0.619085</td>\n",
       "      <td>...</td>\n",
       "      <td>0.879407</td>\n",
       "      <td>-0.531840</td>\n",
       "      <td>-0.387805</td>\n",
       "      <td>-0.268655</td>\n",
       "      <td>-0.133697</td>\n",
       "      <td>-0.082923</td>\n",
       "      <td>-0.258065</td>\n",
       "      <td>-1.063474</td>\n",
       "      <td>1.224745</td>\n",
       "      <td>0</td>\n",
       "    </tr>\n",
       "    <tr>\n",
       "      <th>3</th>\n",
       "      <td>0.724079</td>\n",
       "      <td>0.936037</td>\n",
       "      <td>-0.833861</td>\n",
       "      <td>0.516900</td>\n",
       "      <td>-0.912329</td>\n",
       "      <td>-0.661504</td>\n",
       "      <td>0.661504</td>\n",
       "      <td>1.030715</td>\n",
       "      <td>-0.441179</td>\n",
       "      <td>-0.619085</td>\n",
       "      <td>...</td>\n",
       "      <td>-1.137130</td>\n",
       "      <td>1.880265</td>\n",
       "      <td>-0.387805</td>\n",
       "      <td>-0.268655</td>\n",
       "      <td>-0.133697</td>\n",
       "      <td>-0.082923</td>\n",
       "      <td>-0.258065</td>\n",
       "      <td>-1.063474</td>\n",
       "      <td>1.224745</td>\n",
       "      <td>0</td>\n",
       "    </tr>\n",
       "    <tr>\n",
       "      <th>4</th>\n",
       "      <td>0.834359</td>\n",
       "      <td>0.364875</td>\n",
       "      <td>0.930822</td>\n",
       "      <td>-1.874977</td>\n",
       "      <td>0.705408</td>\n",
       "      <td>1.511706</td>\n",
       "      <td>-1.511706</td>\n",
       "      <td>1.030715</td>\n",
       "      <td>-0.441179</td>\n",
       "      <td>-0.619085</td>\n",
       "      <td>...</td>\n",
       "      <td>-1.137130</td>\n",
       "      <td>-0.531840</td>\n",
       "      <td>-0.387805</td>\n",
       "      <td>3.722240</td>\n",
       "      <td>-0.133697</td>\n",
       "      <td>-0.082923</td>\n",
       "      <td>-0.258065</td>\n",
       "      <td>0.940314</td>\n",
       "      <td>-0.816497</td>\n",
       "      <td>0</td>\n",
       "    </tr>\n",
       "  </tbody>\n",
       "</table>\n",
       "<p>5 rows × 31 columns</p>\n",
       "</div>"
      ],
      "text/plain": [
       "        Age  RestingBloodPressure  Cholestoral  MaximumHeartRate  Depression  \\\n",
       "0 -0.268437             -0.377636    -0.659332          0.821321   -0.060888   \n",
       "1 -0.158157              0.479107    -0.833861          0.255968    1.727137   \n",
       "2  1.716595              0.764688    -1.396233         -1.048692    1.301417   \n",
       "3  0.724079              0.936037    -0.833861          0.516900   -0.912329   \n",
       "4  0.834359              0.364875     0.930822         -1.874977    0.705408   \n",
       "\n",
       "      Sex_0     Sex_1  ChestPain_0  ChestPain_1  ChestPain_2  ...  \\\n",
       "0 -0.661504  0.661504     1.030715    -0.441179    -0.619085  ...   \n",
       "1 -0.661504  0.661504     1.030715    -0.441179    -0.619085  ...   \n",
       "2 -0.661504  0.661504     1.030715    -0.441179    -0.619085  ...   \n",
       "3 -0.661504  0.661504     1.030715    -0.441179    -0.619085  ...   \n",
       "4  1.511706 -1.511706     1.030715    -0.441179    -0.619085  ...   \n",
       "\n",
       "   MajorVessels_0  MajorVessels_1  MajorVessels_2  MajorVessels_3  \\\n",
       "0       -1.137130       -0.531840        2.578615       -0.268655   \n",
       "1        0.879407       -0.531840       -0.387805       -0.268655   \n",
       "2        0.879407       -0.531840       -0.387805       -0.268655   \n",
       "3       -1.137130        1.880265       -0.387805       -0.268655   \n",
       "4       -1.137130       -0.531840       -0.387805        3.722240   \n",
       "\n",
       "   MajorVessels_4  Thalassemia_0  Thalassemia_1  Thalassemia_2  Thalassemia_3  \\\n",
       "0       -0.133697      -0.082923      -0.258065      -1.063474       1.224745   \n",
       "1       -0.133697      -0.082923      -0.258065      -1.063474       1.224745   \n",
       "2       -0.133697      -0.082923      -0.258065      -1.063474       1.224745   \n",
       "3       -0.133697      -0.082923      -0.258065      -1.063474       1.224745   \n",
       "4       -0.133697      -0.082923      -0.258065       0.940314      -0.816497   \n",
       "\n",
       "   Target  \n",
       "0       0  \n",
       "1       0  \n",
       "2       0  \n",
       "3       0  \n",
       "4       0  \n",
       "\n",
       "[5 rows x 31 columns]"
      ]
     },
     "execution_count": 12,
     "metadata": {},
     "output_type": "execute_result"
    }
   ],
   "source": [
    "#show z-score standardization for all columns\n",
    "\n",
    "\n",
    "df = dataset.drop(['Target'], axis=1)\n",
    "\n",
    "#list to hold column names\n",
    "colnames = list(df.columns)\n",
    "\n",
    "#set StandardScale function to a variable (easier to type)\n",
    "#scaler will use z-score formula on the column\n",
    "scaler = StandardScaler()\n",
    "\n",
    "#calculate z-scores\n",
    "modeldf = pd.DataFrame(scaler.fit_transform(df), columns = colnames)\n",
    "\n",
    "modeldf['Target']= dataset['Target']\n",
    "\n",
    "modeldf.head()"
   ]
  },
  {
   "cell_type": "code",
   "execution_count": 13,
   "metadata": {},
   "outputs": [],
   "source": [
    "modeldf.to_csv('Scaledf.csv',index=False)"
   ]
  },
  {
   "cell_type": "code",
   "execution_count": 14,
   "metadata": {},
   "outputs": [
    {
     "data": {
      "text/plain": [
       "array([[<matplotlib.axes._subplots.AxesSubplot object at 0x0000025C34FDDB08>,\n",
       "        <matplotlib.axes._subplots.AxesSubplot object at 0x0000025C3504BF08>,\n",
       "        <matplotlib.axes._subplots.AxesSubplot object at 0x0000025C3505DA48>,\n",
       "        <matplotlib.axes._subplots.AxesSubplot object at 0x0000025C34E93348>,\n",
       "        <matplotlib.axes._subplots.AxesSubplot object at 0x0000025C34AB8C08>,\n",
       "        <matplotlib.axes._subplots.AxesSubplot object at 0x0000025C34AF34C8>],\n",
       "       [<matplotlib.axes._subplots.AxesSubplot object at 0x0000025C34B29CC8>,\n",
       "        <matplotlib.axes._subplots.AxesSubplot object at 0x0000025C34B638C8>,\n",
       "        <matplotlib.axes._subplots.AxesSubplot object at 0x0000025C34B6F408>,\n",
       "        <matplotlib.axes._subplots.AxesSubplot object at 0x0000025C34BA74C8>,\n",
       "        <matplotlib.axes._subplots.AxesSubplot object at 0x0000025C34C0C848>,\n",
       "        <matplotlib.axes._subplots.AxesSubplot object at 0x0000025C34C447C8>],\n",
       "       [<matplotlib.axes._subplots.AxesSubplot object at 0x0000025C34C7D788>,\n",
       "        <matplotlib.axes._subplots.AxesSubplot object at 0x0000025C34CB6748>,\n",
       "        <matplotlib.axes._subplots.AxesSubplot object at 0x0000025C34CEE748>,\n",
       "        <matplotlib.axes._subplots.AxesSubplot object at 0x0000025C34D27708>,\n",
       "        <matplotlib.axes._subplots.AxesSubplot object at 0x0000025C34D66E88>,\n",
       "        <matplotlib.axes._subplots.AxesSubplot object at 0x0000025C34D9EE88>],\n",
       "       [<matplotlib.axes._subplots.AxesSubplot object at 0x0000025C34DD7E88>,\n",
       "        <matplotlib.axes._subplots.AxesSubplot object at 0x0000025C34E11E48>,\n",
       "        <matplotlib.axes._subplots.AxesSubplot object at 0x0000025C34E44608>,\n",
       "        <matplotlib.axes._subplots.AxesSubplot object at 0x0000025C34ECC548>,\n",
       "        <matplotlib.axes._subplots.AxesSubplot object at 0x0000025C34F05508>,\n",
       "        <matplotlib.axes._subplots.AxesSubplot object at 0x0000025C3536C4C8>],\n",
       "       [<matplotlib.axes._subplots.AxesSubplot object at 0x0000025C353A54C8>,\n",
       "        <matplotlib.axes._subplots.AxesSubplot object at 0x0000025C353DE488>,\n",
       "        <matplotlib.axes._subplots.AxesSubplot object at 0x0000025C35417408>,\n",
       "        <matplotlib.axes._subplots.AxesSubplot object at 0x0000025C3544F408>,\n",
       "        <matplotlib.axes._subplots.AxesSubplot object at 0x0000025C354883C8>,\n",
       "        <matplotlib.axes._subplots.AxesSubplot object at 0x0000025C354C0388>],\n",
       "       [<matplotlib.axes._subplots.AxesSubplot object at 0x0000025C354F8348>,\n",
       "        <matplotlib.axes._subplots.AxesSubplot object at 0x0000025C35532348>,\n",
       "        <matplotlib.axes._subplots.AxesSubplot object at 0x0000025C3556B3C8>,\n",
       "        <matplotlib.axes._subplots.AxesSubplot object at 0x0000025C355A4588>,\n",
       "        <matplotlib.axes._subplots.AxesSubplot object at 0x0000025C355DD788>,\n",
       "        <matplotlib.axes._subplots.AxesSubplot object at 0x0000025C35615948>]],\n",
       "      dtype=object)"
      ]
     },
     "execution_count": 14,
     "metadata": {},
     "output_type": "execute_result"
    },
    {
     "data": {
      "image/png": "[encoded data removed]",
      "text/plain": [
       "<Figure size 1080x1080 with 36 Axes>"
      ]
     },
     "metadata": {
      "needs_background": "light"
     },
     "output_type": "display_data"
    }
   ],
   "source": [
    "#plot frequency distribution with same scale range\n",
    "modeldf.hist(figsize=(15,15), sharex=True)"
   ]
  },
  {
   "cell_type": "markdown",
   "metadata": {},
   "source": [
    "**The dataset is now ready. We can begin with training our models.**"
   ]
  },
  {
   "cell_type": "markdown",
   "metadata": {},
   "source": [
    "### Predictive Modeling\n",
    "\n",
    "\n",
    "- Separate the attributes (features used to predict) from the target (outcome to predict)\n",
    "- Shuffle the order of the rows in the dataset, then separate into a dataset for training (for the model to learn from) and testing (to see how well it predicts with new data)\n",
    "- Train the model (calculate the attributes' parameters (weights) and sigmoid line shape that best fits the train dataset)\n"
   ]
  },
  {
   "cell_type": "code",
   "execution_count": 15,
   "metadata": {},
   "outputs": [],
   "source": [
    "# 'Target' is target variable\n",
    "y = modeldf['Target']\n"
   ]
  },
  {
   "cell_type": "code",
   "execution_count": 16,
   "metadata": {},
   "outputs": [],
   "source": [
    "# attributes are all the columns EXCEPT 'Target'\n",
    "X = modeldf.drop(['Target'], axis=1)"
   ]
  },
  {
   "cell_type": "code",
   "execution_count": 17,
   "metadata": {},
   "outputs": [],
   "source": [
    "# separate 80% for training data, 20% for test data\n",
    "X_train, X_test, y_train, y_test = train_test_split(X, y, test_size=0.2, random_state=42)"
   ]
  },
  {
   "cell_type": "markdown",
   "metadata": {},
   "source": [
    "# Logistic Regression Classifier\n",
    "\n",
    "The `LogisticRegression()` function will take the `X_train` and `y_train` dataset, and calculate the attributes' parameters (weights) and sigmoid line shape that best fits the data."
   ]
  },
  {
   "cell_type": "code",
   "execution_count": 18,
   "metadata": {},
   "outputs": [],
   "source": [
    "# assign logistic regression function to variable\n",
    "model1 = LogisticRegression()"
   ]
  },
  {
   "cell_type": "code",
   "execution_count": 19,
   "metadata": {},
   "outputs": [
    {
     "data": {
      "text/plain": [
       "LogisticRegression(C=1.0, class_weight=None, dual=False, fit_intercept=True,\n",
       "                   intercept_scaling=1, l1_ratio=None, max_iter=100,\n",
       "                   multi_class='auto', n_jobs=None, penalty='l2',\n",
       "                   random_state=None, solver='lbfgs', tol=0.0001, verbose=0,\n",
       "                   warm_start=False)"
      ]
     },
     "execution_count": 19,
     "metadata": {},
     "output_type": "execute_result"
    }
   ],
   "source": [
    "# give training data to learn\n",
    "model1.fit(X_train, y_train)"
   ]
  },
  {
   "cell_type": "code",
   "execution_count": 20,
   "metadata": {},
   "outputs": [
    {
     "data": {
      "text/plain": [
       "0.8829268292682927"
      ]
     },
     "execution_count": 20,
     "metadata": {},
     "output_type": "execute_result"
    }
   ],
   "source": [
    "# overall ratio of correct predictions for training data\n",
    "model1.score(X_train, y_train)"
   ]
  },
  {
   "cell_type": "markdown",
   "metadata": {},
   "source": [
    "### Evaluate the model on test data\n",
    "To assess how well the model will perform on new data, we will use the test set to:\n",
    "\n",
    "Display the ratio of overall correct predictions\n",
    "Compare the number of correct and incorrect predictions for each target category\n",
    "Compare the ratio of correct predictions for all actual target values and all predicted values for a category"
   ]
  },
  {
   "cell_type": "code",
   "execution_count": 21,
   "metadata": {},
   "outputs": [
    {
     "data": {
      "text/plain": [
       "0.8048780487804879"
      ]
     },
     "execution_count": 21,
     "metadata": {},
     "output_type": "execute_result"
    }
   ],
   "source": [
    "# overall ratio of correct predictions for test data\n",
    "model1.score(X_test, y_test)"
   ]
  },
  {
   "cell_type": "code",
   "execution_count": 22,
   "metadata": {},
   "outputs": [],
   "source": [
    "# generate predictions\n",
    "y_pred = model1.predict(X_test)"
   ]
  },
  {
   "cell_type": "code",
   "execution_count": 23,
   "metadata": {},
   "outputs": [
    {
     "data": {
      "text/html": [
       "<div>\n",
       "<style scoped>\n",
       "    .dataframe tbody tr th:only-of-type {\n",
       "        vertical-align: middle;\n",
       "    }\n",
       "\n",
       "    .dataframe tbody tr th {\n",
       "        vertical-align: top;\n",
       "    }\n",
       "\n",
       "    .dataframe thead th {\n",
       "        text-align: right;\n",
       "    }\n",
       "</style>\n",
       "<table border=\"1\" class=\"dataframe\">\n",
       "  <thead>\n",
       "    <tr style=\"text-align: right;\">\n",
       "      <th></th>\n",
       "      <th>Predicted: no disease</th>\n",
       "      <th>Predicted: disease</th>\n",
       "    </tr>\n",
       "  </thead>\n",
       "  <tbody>\n",
       "    <tr>\n",
       "      <th>Actual: no disease</th>\n",
       "      <td>75</td>\n",
       "      <td>27</td>\n",
       "    </tr>\n",
       "    <tr>\n",
       "      <th>Actual: disease</th>\n",
       "      <td>13</td>\n",
       "      <td>90</td>\n",
       "    </tr>\n",
       "  </tbody>\n",
       "</table>\n",
       "</div>"
      ],
      "text/plain": [
       "                    Predicted: no disease  Predicted: disease\n",
       "Actual: no disease                     75                  27\n",
       "Actual: disease                        13                  90"
      ]
     },
     "execution_count": 23,
     "metadata": {},
     "output_type": "execute_result"
    }
   ],
   "source": [
    "# compare how many items in each category model predicted correctly vs incorrectly\n",
    "\n",
    "cm = pd.DataFrame(\n",
    "    confusion_matrix(y_test, y_pred),\n",
    "    columns=['Predicted: no disease', 'Predicted: disease'],\n",
    "    index=['Actual: no disease', 'Actual: disease']\n",
    ")\n",
    "\n",
    "cm"
   ]
  },
  {
   "cell_type": "code",
   "execution_count": 24,
   "metadata": {},
   "outputs": [
    {
     "name": "stdout",
     "output_type": "stream",
     "text": [
      "              precision    recall  f1-score   support\n",
      "\n",
      "           0       0.85      0.74      0.79       102\n",
      "           1       0.77      0.87      0.82       103\n",
      "\n",
      "    accuracy                           0.80       205\n",
      "   macro avg       0.81      0.80      0.80       205\n",
      "weighted avg       0.81      0.80      0.80       205\n",
      "\n"
     ]
    }
   ],
   "source": [
    "# compare ratio of correct predictions vs all predicted values for each category (precision)\n",
    "# compare ratio of correct predictions vs all actual values for each category (recall)\n",
    "\n",
    "print(classification_report(y_test, y_pred))"
   ]
  },
  {
   "cell_type": "markdown",
   "metadata": {},
   "source": [
    "# Decision Tree Classifier\n",
    "\n",
    "The `DecisionTreeClassifier()` function will take the X_train and y_train dataset, and calculate the attributes' segmented groups and probabilities that best fits the data."
   ]
  },
  {
   "cell_type": "code",
   "execution_count": 25,
   "metadata": {},
   "outputs": [],
   "source": [
    "# assign decision tree function to variable\n",
    "model2 = DecisionTreeClassifier()"
   ]
  },
  {
   "cell_type": "code",
   "execution_count": 26,
   "metadata": {},
   "outputs": [
    {
     "data": {
      "text/plain": [
       "DecisionTreeClassifier(ccp_alpha=0.0, class_weight=None, criterion='gini',\n",
       "                       max_depth=None, max_features=None, max_leaf_nodes=None,\n",
       "                       min_impurity_decrease=0.0, min_impurity_split=None,\n",
       "                       min_samples_leaf=1, min_samples_split=2,\n",
       "                       min_weight_fraction_leaf=0.0, presort='deprecated',\n",
       "                       random_state=None, splitter='best')"
      ]
     },
     "execution_count": 26,
     "metadata": {},
     "output_type": "execute_result"
    }
   ],
   "source": [
    "# give training data to learn\n",
    "model2.fit(X_train, y_train)"
   ]
  },
  {
   "cell_type": "code",
   "execution_count": 27,
   "metadata": {},
   "outputs": [
    {
     "data": {
      "text/plain": [
       "1.0"
      ]
     },
     "execution_count": 27,
     "metadata": {},
     "output_type": "execute_result"
    }
   ],
   "source": [
    "# overall ratio of correct predictions for training data\n",
    "model2.score(X_train, y_train)"
   ]
  },
  {
   "cell_type": "markdown",
   "metadata": {},
   "source": [
    "#### Evaluate the model on test data\n",
    "\n",
    "To assess how well the model will perform on new data, we will use the test set to:\n",
    "\n",
    "- Display the ratio of overall correct predictions\n",
    "- Compare the number of correct and incorrect predictions for each target category\n",
    "- Compare the ratio of correct predictions for all actual target values and all predicted values for a category"
   ]
  },
  {
   "cell_type": "code",
   "execution_count": 28,
   "metadata": {},
   "outputs": [
    {
     "data": {
      "text/plain": [
       "0.9853658536585366"
      ]
     },
     "execution_count": 28,
     "metadata": {},
     "output_type": "execute_result"
    }
   ],
   "source": [
    "# overall ratio of correct predictions for test data\n",
    "model2.score(X_test, y_test)"
   ]
  },
  {
   "cell_type": "code",
   "execution_count": 29,
   "metadata": {},
   "outputs": [],
   "source": [
    "# generate predictions\n",
    "y_pred = model2.predict(X_test)"
   ]
  },
  {
   "cell_type": "code",
   "execution_count": 30,
   "metadata": {},
   "outputs": [
    {
     "data": {
      "text/html": [
       "<div>\n",
       "<style scoped>\n",
       "    .dataframe tbody tr th:only-of-type {\n",
       "        vertical-align: middle;\n",
       "    }\n",
       "\n",
       "    .dataframe tbody tr th {\n",
       "        vertical-align: top;\n",
       "    }\n",
       "\n",
       "    .dataframe thead th {\n",
       "        text-align: right;\n",
       "    }\n",
       "</style>\n",
       "<table border=\"1\" class=\"dataframe\">\n",
       "  <thead>\n",
       "    <tr style=\"text-align: right;\">\n",
       "      <th></th>\n",
       "      <th>Predicted: no disease</th>\n",
       "      <th>Predicted: disease</th>\n",
       "    </tr>\n",
       "  </thead>\n",
       "  <tbody>\n",
       "    <tr>\n",
       "      <th>Actual: no disease</th>\n",
       "      <td>102</td>\n",
       "      <td>0</td>\n",
       "    </tr>\n",
       "    <tr>\n",
       "      <th>Actual: disease</th>\n",
       "      <td>3</td>\n",
       "      <td>100</td>\n",
       "    </tr>\n",
       "  </tbody>\n",
       "</table>\n",
       "</div>"
      ],
      "text/plain": [
       "                    Predicted: no disease  Predicted: disease\n",
       "Actual: no disease                    102                   0\n",
       "Actual: disease                         3                 100"
      ]
     },
     "execution_count": 30,
     "metadata": {},
     "output_type": "execute_result"
    }
   ],
   "source": [
    "# compare how many items in each category model predicted correctly vs incorrectly\n",
    "\n",
    "cm = pd.DataFrame(\n",
    "    confusion_matrix(y_test, y_pred),\n",
    "    columns=['Predicted: no disease', 'Predicted: disease'],\n",
    "    index=['Actual: no disease', 'Actual: disease']\n",
    ")\n",
    "\n",
    "cm"
   ]
  },
  {
   "cell_type": "code",
   "execution_count": 31,
   "metadata": {
    "scrolled": true
   },
   "outputs": [
    {
     "name": "stdout",
     "output_type": "stream",
     "text": [
      "              precision    recall  f1-score   support\n",
      "\n",
      "           0       0.97      1.00      0.99       102\n",
      "           1       1.00      0.97      0.99       103\n",
      "\n",
      "    accuracy                           0.99       205\n",
      "   macro avg       0.99      0.99      0.99       205\n",
      "weighted avg       0.99      0.99      0.99       205\n",
      "\n"
     ]
    }
   ],
   "source": [
    "# compare ratio of correct predictions vs all predicted values for each category (precision)\n",
    "# compare ratio of correct predictions vs all actual values for each category (recall)\n",
    "\n",
    "print(classification_report(y_test, y_pred))"
   ]
  },
  {
   "cell_type": "code",
   "execution_count": null,
   "metadata": {},
   "outputs": [],
   "source": []
  },
  {
   "cell_type": "markdown",
   "metadata": {},
   "source": [
    "# KNeighbors Classifier\n",
    "\n",
    "The `KNeighborsClassifier()`looks for the classes of K nearest neighbors of a given data point and based on the majority class, it assigns a class to this data point."
   ]
  },
  {
   "cell_type": "code",
   "execution_count": 32,
   "metadata": {},
   "outputs": [],
   "source": [
    "# assign decision tree function to variable\n",
    "model3 = KNeighborsClassifier()"
   ]
  },
  {
   "cell_type": "code",
   "execution_count": 33,
   "metadata": {},
   "outputs": [
    {
     "data": {
      "text/plain": [
       "KNeighborsClassifier(algorithm='auto', leaf_size=30, metric='minkowski',\n",
       "                     metric_params=None, n_jobs=None, n_neighbors=5, p=2,\n",
       "                     weights='uniform')"
      ]
     },
     "execution_count": 33,
     "metadata": {},
     "output_type": "execute_result"
    }
   ],
   "source": [
    "# give training data to learn\n",
    "model3.fit(X_train, y_train)"
   ]
  },
  {
   "cell_type": "code",
   "execution_count": 34,
   "metadata": {},
   "outputs": [
    {
     "data": {
      "text/plain": [
       "0.9524390243902439"
      ]
     },
     "execution_count": 34,
     "metadata": {},
     "output_type": "execute_result"
    }
   ],
   "source": [
    "# overall ratio of correct predictions for training data\n",
    "model3.score(X_train, y_train)"
   ]
  },
  {
   "cell_type": "markdown",
   "metadata": {},
   "source": [
    "#### Evaluate the model on test data\n",
    "\n",
    "To assess how well the model will perform on new data, we will use the test set to:\n",
    "\n",
    "- Display the ratio of overall correct predictions\n",
    "- Compare the number of correct and incorrect predictions for each target category\n",
    "- Compare the ratio of correct predictions for all actual target values and all predicted values for a category"
   ]
  },
  {
   "cell_type": "code",
   "execution_count": 35,
   "metadata": {},
   "outputs": [
    {
     "data": {
      "text/plain": [
       "0.8682926829268293"
      ]
     },
     "execution_count": 35,
     "metadata": {},
     "output_type": "execute_result"
    }
   ],
   "source": [
    "# overall ratio of correct predictions for test data\n",
    "model3.score(X_test, y_test)"
   ]
  },
  {
   "cell_type": "code",
   "execution_count": 36,
   "metadata": {},
   "outputs": [],
   "source": [
    "# generate predictions\n",
    "y_pred = model3.predict(X_test)"
   ]
  },
  {
   "cell_type": "code",
   "execution_count": 37,
   "metadata": {},
   "outputs": [
    {
     "data": {
      "text/html": [
       "<div>\n",
       "<style scoped>\n",
       "    .dataframe tbody tr th:only-of-type {\n",
       "        vertical-align: middle;\n",
       "    }\n",
       "\n",
       "    .dataframe tbody tr th {\n",
       "        vertical-align: top;\n",
       "    }\n",
       "\n",
       "    .dataframe thead th {\n",
       "        text-align: right;\n",
       "    }\n",
       "</style>\n",
       "<table border=\"1\" class=\"dataframe\">\n",
       "  <thead>\n",
       "    <tr style=\"text-align: right;\">\n",
       "      <th></th>\n",
       "      <th>Predicted: no disease</th>\n",
       "      <th>Predicted: disease</th>\n",
       "    </tr>\n",
       "  </thead>\n",
       "  <tbody>\n",
       "    <tr>\n",
       "      <th>Actual: no disease</th>\n",
       "      <td>87</td>\n",
       "      <td>15</td>\n",
       "    </tr>\n",
       "    <tr>\n",
       "      <th>Actual: disease</th>\n",
       "      <td>12</td>\n",
       "      <td>91</td>\n",
       "    </tr>\n",
       "  </tbody>\n",
       "</table>\n",
       "</div>"
      ],
      "text/plain": [
       "                    Predicted: no disease  Predicted: disease\n",
       "Actual: no disease                     87                  15\n",
       "Actual: disease                        12                  91"
      ]
     },
     "execution_count": 37,
     "metadata": {},
     "output_type": "execute_result"
    }
   ],
   "source": [
    "# compare how many items in each category model predicted correctly vs incorrectly\n",
    "\n",
    "cm = pd.DataFrame(\n",
    "    confusion_matrix(y_test, y_pred),\n",
    "    columns=['Predicted: no disease', 'Predicted: disease'],\n",
    "    index=['Actual: no disease', 'Actual: disease']\n",
    ")\n",
    "\n",
    "cm"
   ]
  },
  {
   "cell_type": "code",
   "execution_count": 38,
   "metadata": {},
   "outputs": [
    {
     "name": "stdout",
     "output_type": "stream",
     "text": [
      "              precision    recall  f1-score   support\n",
      "\n",
      "           0       0.88      0.85      0.87       102\n",
      "           1       0.86      0.88      0.87       103\n",
      "\n",
      "    accuracy                           0.87       205\n",
      "   macro avg       0.87      0.87      0.87       205\n",
      "weighted avg       0.87      0.87      0.87       205\n",
      "\n"
     ]
    }
   ],
   "source": [
    "# compare ratio of correct predictions vs all predicted values for each category (precision)\n",
    "# compare ratio of correct predictions vs all actual values for each category (recall)\n",
    "\n",
    "print(classification_report(y_test, y_pred))"
   ]
  },
  {
   "cell_type": "markdown",
   "metadata": {},
   "source": [
    "# Conclusion\n",
    "\n",
    "The project involved analysis of the heart disease patient dataset with proper data processing. Then, 3 models were trained and tested with maximum scores as follows:\n",
    "\n",
    "- Logistic Regression Classifier: 80.4%\n",
    "- Decision Tree Classifier: 98.5%\n",
    "- KNeighbors Classifie: 86.8%\n",
    "\n",
    "## Decision Tree Classifier scored the best score of 98.5% .\n"
   ]
  }
 ],
 "metadata": {
  "kernelspec": {
   "display_name": "Python 3",
   "language": "python",
   "name": "python3"
  },
  "language_info": {
   "codemirror_mode": {
    "name": "ipython",
    "version": 3
   },
   "file_extension": ".py",
   "mimetype": "text/x-python",
   "name": "python",
   "nbconvert_exporter": "python",
   "pygments_lexer": "ipython3",
   "version": "3.7.7"
  }
 },
 "nbformat": 4,
 "nbformat_minor": 4
}
